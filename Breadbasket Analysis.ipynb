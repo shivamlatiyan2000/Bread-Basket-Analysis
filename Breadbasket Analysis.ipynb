{
 "cells": [
  {
   "cell_type": "code",
   "execution_count": 2,
   "id": "85c0d1ea",
   "metadata": {},
   "outputs": [],
   "source": [
    "import pandas as pd\n",
    "import numpy as np\n",
    "import matplotlib.pyplot as plt\n",
    "import seaborn as sns"
   ]
  },
  {
   "cell_type": "code",
   "execution_count": 3,
   "id": "e06a6f72",
   "metadata": {},
   "outputs": [],
   "source": [
    "df=pd.read_csv('breadbasket.csv')"
   ]
  },
  {
   "cell_type": "code",
   "execution_count": 4,
   "id": "56ab70d8",
   "metadata": {},
   "outputs": [
    {
     "data": {
      "text/plain": [
       "(20507, 5)"
      ]
     },
     "execution_count": 4,
     "metadata": {},
     "output_type": "execute_result"
    }
   ],
   "source": [
    "df.shape"
   ]
  },
  {
   "cell_type": "code",
   "execution_count": 5,
   "id": "7dbd5a62",
   "metadata": {},
   "outputs": [
    {
     "name": "stdout",
     "output_type": "stream",
     "text": [
      "<class 'pandas.core.frame.DataFrame'>\n",
      "RangeIndex: 20507 entries, 0 to 20506\n",
      "Data columns (total 5 columns):\n",
      " #   Column           Non-Null Count  Dtype \n",
      "---  ------           --------------  ----- \n",
      " 0   Transaction      20507 non-null  int64 \n",
      " 1   Item             20507 non-null  object\n",
      " 2   date_time        20507 non-null  object\n",
      " 3   period_day       20507 non-null  object\n",
      " 4   weekday_weekend  20507 non-null  object\n",
      "dtypes: int64(1), object(4)\n",
      "memory usage: 801.2+ KB\n"
     ]
    }
   ],
   "source": [
    "df.info()"
   ]
  },
  {
   "cell_type": "code",
   "execution_count": 6,
   "id": "87f72654",
   "metadata": {},
   "outputs": [],
   "source": [
    "#we need to change date_time object into date time format\n",
    "df['date_time']=pd.to_datetime(df['date_time'])"
   ]
  },
  {
   "cell_type": "code",
   "execution_count": 7,
   "id": "0e992f6d",
   "metadata": {},
   "outputs": [
    {
     "name": "stdout",
     "output_type": "stream",
     "text": [
      "<class 'pandas.core.frame.DataFrame'>\n",
      "RangeIndex: 20507 entries, 0 to 20506\n",
      "Data columns (total 5 columns):\n",
      " #   Column           Non-Null Count  Dtype         \n",
      "---  ------           --------------  -----         \n",
      " 0   Transaction      20507 non-null  int64         \n",
      " 1   Item             20507 non-null  object        \n",
      " 2   date_time        20507 non-null  datetime64[ns]\n",
      " 3   period_day       20507 non-null  object        \n",
      " 4   weekday_weekend  20507 non-null  object        \n",
      "dtypes: datetime64[ns](1), int64(1), object(3)\n",
      "memory usage: 801.2+ KB\n"
     ]
    }
   ],
   "source": [
    "df.info()"
   ]
  },
  {
   "cell_type": "code",
   "execution_count": 9,
   "id": "e8fd284f",
   "metadata": {},
   "outputs": [
    {
     "data": {
      "text/plain": [
       "Transaction        0\n",
       "Item               0\n",
       "date_time          0\n",
       "period_day         0\n",
       "weekday_weekend    0\n",
       "dtype: int64"
      ]
     },
     "execution_count": 9,
     "metadata": {},
     "output_type": "execute_result"
    }
   ],
   "source": [
    "#checking the null values\n",
    "df.isnull().sum()"
   ]
  },
  {
   "cell_type": "code",
   "execution_count": null,
   "id": "f765f019",
   "metadata": {},
   "outputs": [],
   "source": [
    "#so there is no missing values in the dataset"
   ]
  },
  {
   "cell_type": "code",
   "execution_count": null,
   "id": "ff2a43c9",
   "metadata": {},
   "outputs": [],
   "source": [
    "#explore the data\n",
    "#univariate,bivariate,multivariate"
   ]
  },
  {
   "cell_type": "code",
   "execution_count": 10,
   "id": "7caeabb8",
   "metadata": {},
   "outputs": [
    {
     "data": {
      "text/html": [
       "<div>\n",
       "<style scoped>\n",
       "    .dataframe tbody tr th:only-of-type {\n",
       "        vertical-align: middle;\n",
       "    }\n",
       "\n",
       "    .dataframe tbody tr th {\n",
       "        vertical-align: top;\n",
       "    }\n",
       "\n",
       "    .dataframe thead th {\n",
       "        text-align: right;\n",
       "    }\n",
       "</style>\n",
       "<table border=\"1\" class=\"dataframe\">\n",
       "  <thead>\n",
       "    <tr style=\"text-align: right;\">\n",
       "      <th></th>\n",
       "      <th>Transaction</th>\n",
       "      <th>Item</th>\n",
       "      <th>date_time</th>\n",
       "      <th>period_day</th>\n",
       "      <th>weekday_weekend</th>\n",
       "    </tr>\n",
       "  </thead>\n",
       "  <tbody>\n",
       "    <tr>\n",
       "      <th>0</th>\n",
       "      <td>1</td>\n",
       "      <td>Bread</td>\n",
       "      <td>2016-10-30 09:58:00</td>\n",
       "      <td>morning</td>\n",
       "      <td>weekend</td>\n",
       "    </tr>\n",
       "    <tr>\n",
       "      <th>1</th>\n",
       "      <td>2</td>\n",
       "      <td>Scandinavian</td>\n",
       "      <td>2016-10-30 10:05:00</td>\n",
       "      <td>morning</td>\n",
       "      <td>weekend</td>\n",
       "    </tr>\n",
       "    <tr>\n",
       "      <th>2</th>\n",
       "      <td>2</td>\n",
       "      <td>Scandinavian</td>\n",
       "      <td>2016-10-30 10:05:00</td>\n",
       "      <td>morning</td>\n",
       "      <td>weekend</td>\n",
       "    </tr>\n",
       "    <tr>\n",
       "      <th>3</th>\n",
       "      <td>3</td>\n",
       "      <td>Hot chocolate</td>\n",
       "      <td>2016-10-30 10:07:00</td>\n",
       "      <td>morning</td>\n",
       "      <td>weekend</td>\n",
       "    </tr>\n",
       "    <tr>\n",
       "      <th>4</th>\n",
       "      <td>3</td>\n",
       "      <td>Jam</td>\n",
       "      <td>2016-10-30 10:07:00</td>\n",
       "      <td>morning</td>\n",
       "      <td>weekend</td>\n",
       "    </tr>\n",
       "    <tr>\n",
       "      <th>...</th>\n",
       "      <td>...</td>\n",
       "      <td>...</td>\n",
       "      <td>...</td>\n",
       "      <td>...</td>\n",
       "      <td>...</td>\n",
       "    </tr>\n",
       "    <tr>\n",
       "      <th>20502</th>\n",
       "      <td>9682</td>\n",
       "      <td>Coffee</td>\n",
       "      <td>2017-09-04 14:32:00</td>\n",
       "      <td>afternoon</td>\n",
       "      <td>weekend</td>\n",
       "    </tr>\n",
       "    <tr>\n",
       "      <th>20503</th>\n",
       "      <td>9682</td>\n",
       "      <td>Tea</td>\n",
       "      <td>2017-09-04 14:32:00</td>\n",
       "      <td>afternoon</td>\n",
       "      <td>weekend</td>\n",
       "    </tr>\n",
       "    <tr>\n",
       "      <th>20504</th>\n",
       "      <td>9683</td>\n",
       "      <td>Coffee</td>\n",
       "      <td>2017-09-04 14:57:00</td>\n",
       "      <td>afternoon</td>\n",
       "      <td>weekend</td>\n",
       "    </tr>\n",
       "    <tr>\n",
       "      <th>20505</th>\n",
       "      <td>9683</td>\n",
       "      <td>Pastry</td>\n",
       "      <td>2017-09-04 14:57:00</td>\n",
       "      <td>afternoon</td>\n",
       "      <td>weekend</td>\n",
       "    </tr>\n",
       "    <tr>\n",
       "      <th>20506</th>\n",
       "      <td>9684</td>\n",
       "      <td>Smoothies</td>\n",
       "      <td>2017-09-04 15:04:00</td>\n",
       "      <td>afternoon</td>\n",
       "      <td>weekend</td>\n",
       "    </tr>\n",
       "  </tbody>\n",
       "</table>\n",
       "<p>20507 rows × 5 columns</p>\n",
       "</div>"
      ],
      "text/plain": [
       "       Transaction           Item           date_time period_day  \\\n",
       "0                1          Bread 2016-10-30 09:58:00    morning   \n",
       "1                2   Scandinavian 2016-10-30 10:05:00    morning   \n",
       "2                2   Scandinavian 2016-10-30 10:05:00    morning   \n",
       "3                3  Hot chocolate 2016-10-30 10:07:00    morning   \n",
       "4                3            Jam 2016-10-30 10:07:00    morning   \n",
       "...            ...            ...                 ...        ...   \n",
       "20502         9682         Coffee 2017-09-04 14:32:00  afternoon   \n",
       "20503         9682            Tea 2017-09-04 14:32:00  afternoon   \n",
       "20504         9683         Coffee 2017-09-04 14:57:00  afternoon   \n",
       "20505         9683         Pastry 2017-09-04 14:57:00  afternoon   \n",
       "20506         9684      Smoothies 2017-09-04 15:04:00  afternoon   \n",
       "\n",
       "      weekday_weekend  \n",
       "0             weekend  \n",
       "1             weekend  \n",
       "2             weekend  \n",
       "3             weekend  \n",
       "4             weekend  \n",
       "...               ...  \n",
       "20502         weekend  \n",
       "20503         weekend  \n",
       "20504         weekend  \n",
       "20505         weekend  \n",
       "20506         weekend  \n",
       "\n",
       "[20507 rows x 5 columns]"
      ]
     },
     "execution_count": 10,
     "metadata": {},
     "output_type": "execute_result"
    }
   ],
   "source": [
    "df"
   ]
  },
  {
   "cell_type": "code",
   "execution_count": 11,
   "id": "8c1ce4ce",
   "metadata": {},
   "outputs": [
    {
     "data": {
      "text/plain": [
       "9465"
      ]
     },
     "execution_count": 11,
     "metadata": {},
     "output_type": "execute_result"
    }
   ],
   "source": [
    "#how many transactions we have\n",
    "len(np.unique(df['Transaction']))"
   ]
  },
  {
   "cell_type": "code",
   "execution_count": null,
   "id": "7a93806f",
   "metadata": {},
   "outputs": [],
   "source": [
    "#in total there are 9465 transactions in the entire dataset"
   ]
  },
  {
   "cell_type": "code",
   "execution_count": 12,
   "id": "c72a1237",
   "metadata": {},
   "outputs": [
    {
     "data": {
      "text/plain": [
       "6716    11\n",
       "6279    11\n",
       "6474    11\n",
       "6412    11\n",
       "6045    10\n",
       "        ..\n",
       "4495     1\n",
       "4494     1\n",
       "4492     1\n",
       "4491     1\n",
       "9684     1\n",
       "Name: Transaction, Length: 9465, dtype: int64"
      ]
     },
     "execution_count": 12,
     "metadata": {},
     "output_type": "execute_result"
    }
   ],
   "source": [
    "df['Transaction'].value_counts()"
   ]
  },
  {
   "cell_type": "code",
   "execution_count": null,
   "id": "ef09343e",
   "metadata": {},
   "outputs": [],
   "source": [
    "#feature engineering\n",
    "#we can get some more useful information"
   ]
  },
  {
   "cell_type": "code",
   "execution_count": 16,
   "id": "fc9ee920",
   "metadata": {},
   "outputs": [
    {
     "data": {
      "text/plain": [
       "0        2016\n",
       "1        2016\n",
       "2        2016\n",
       "3        2016\n",
       "4        2016\n",
       "         ... \n",
       "20502    2017\n",
       "20503    2017\n",
       "20504    2017\n",
       "20505    2017\n",
       "20506    2017\n",
       "Name: year, Length: 20507, dtype: int64"
      ]
     },
     "execution_count": 16,
     "metadata": {},
     "output_type": "execute_result"
    }
   ],
   "source": [
    "df['year']=df['date_time'].dt.year\n",
    "df['year']"
   ]
  },
  {
   "cell_type": "code",
   "execution_count": 18,
   "id": "6ca2346e",
   "metadata": {},
   "outputs": [],
   "source": [
    "df['date']=df['date_time'].dt.date\n",
    "df['time']=df['date_time'].dt.time\n",
    "df['month']=df['date_time'].dt.month\n",
    "df['day']=df['date_time'].dt.day\n",
    "df['weekday']=df['date_time'].dt.weekday\n",
    "df['hour']=df['date_time'].dt.hour\n",
    "df['year']=df['date_time'].dt.year"
   ]
  },
  {
   "cell_type": "code",
   "execution_count": 19,
   "id": "b13e6148",
   "metadata": {},
   "outputs": [],
   "source": [
    "#droping the date_time column\n",
    "df.drop('date_time',axis=1,inplace=True)"
   ]
  },
  {
   "cell_type": "code",
   "execution_count": 20,
   "id": "8ed7a468",
   "metadata": {},
   "outputs": [
    {
     "data": {
      "text/html": [
       "<div>\n",
       "<style scoped>\n",
       "    .dataframe tbody tr th:only-of-type {\n",
       "        vertical-align: middle;\n",
       "    }\n",
       "\n",
       "    .dataframe tbody tr th {\n",
       "        vertical-align: top;\n",
       "    }\n",
       "\n",
       "    .dataframe thead th {\n",
       "        text-align: right;\n",
       "    }\n",
       "</style>\n",
       "<table border=\"1\" class=\"dataframe\">\n",
       "  <thead>\n",
       "    <tr style=\"text-align: right;\">\n",
       "      <th></th>\n",
       "      <th>Transaction</th>\n",
       "      <th>Item</th>\n",
       "      <th>period_day</th>\n",
       "      <th>weekday_weekend</th>\n",
       "      <th>date</th>\n",
       "      <th>year</th>\n",
       "      <th>time</th>\n",
       "      <th>month</th>\n",
       "      <th>day</th>\n",
       "      <th>weekday</th>\n",
       "      <th>hour</th>\n",
       "    </tr>\n",
       "  </thead>\n",
       "  <tbody>\n",
       "    <tr>\n",
       "      <th>0</th>\n",
       "      <td>1</td>\n",
       "      <td>Bread</td>\n",
       "      <td>morning</td>\n",
       "      <td>weekend</td>\n",
       "      <td>2016-10-30</td>\n",
       "      <td>2016</td>\n",
       "      <td>09:58:00</td>\n",
       "      <td>10</td>\n",
       "      <td>30</td>\n",
       "      <td>6</td>\n",
       "      <td>9</td>\n",
       "    </tr>\n",
       "    <tr>\n",
       "      <th>1</th>\n",
       "      <td>2</td>\n",
       "      <td>Scandinavian</td>\n",
       "      <td>morning</td>\n",
       "      <td>weekend</td>\n",
       "      <td>2016-10-30</td>\n",
       "      <td>2016</td>\n",
       "      <td>10:05:00</td>\n",
       "      <td>10</td>\n",
       "      <td>30</td>\n",
       "      <td>6</td>\n",
       "      <td>10</td>\n",
       "    </tr>\n",
       "    <tr>\n",
       "      <th>2</th>\n",
       "      <td>2</td>\n",
       "      <td>Scandinavian</td>\n",
       "      <td>morning</td>\n",
       "      <td>weekend</td>\n",
       "      <td>2016-10-30</td>\n",
       "      <td>2016</td>\n",
       "      <td>10:05:00</td>\n",
       "      <td>10</td>\n",
       "      <td>30</td>\n",
       "      <td>6</td>\n",
       "      <td>10</td>\n",
       "    </tr>\n",
       "    <tr>\n",
       "      <th>3</th>\n",
       "      <td>3</td>\n",
       "      <td>Hot chocolate</td>\n",
       "      <td>morning</td>\n",
       "      <td>weekend</td>\n",
       "      <td>2016-10-30</td>\n",
       "      <td>2016</td>\n",
       "      <td>10:07:00</td>\n",
       "      <td>10</td>\n",
       "      <td>30</td>\n",
       "      <td>6</td>\n",
       "      <td>10</td>\n",
       "    </tr>\n",
       "    <tr>\n",
       "      <th>4</th>\n",
       "      <td>3</td>\n",
       "      <td>Jam</td>\n",
       "      <td>morning</td>\n",
       "      <td>weekend</td>\n",
       "      <td>2016-10-30</td>\n",
       "      <td>2016</td>\n",
       "      <td>10:07:00</td>\n",
       "      <td>10</td>\n",
       "      <td>30</td>\n",
       "      <td>6</td>\n",
       "      <td>10</td>\n",
       "    </tr>\n",
       "    <tr>\n",
       "      <th>...</th>\n",
       "      <td>...</td>\n",
       "      <td>...</td>\n",
       "      <td>...</td>\n",
       "      <td>...</td>\n",
       "      <td>...</td>\n",
       "      <td>...</td>\n",
       "      <td>...</td>\n",
       "      <td>...</td>\n",
       "      <td>...</td>\n",
       "      <td>...</td>\n",
       "      <td>...</td>\n",
       "    </tr>\n",
       "    <tr>\n",
       "      <th>20502</th>\n",
       "      <td>9682</td>\n",
       "      <td>Coffee</td>\n",
       "      <td>afternoon</td>\n",
       "      <td>weekend</td>\n",
       "      <td>2017-09-04</td>\n",
       "      <td>2017</td>\n",
       "      <td>14:32:00</td>\n",
       "      <td>9</td>\n",
       "      <td>4</td>\n",
       "      <td>0</td>\n",
       "      <td>14</td>\n",
       "    </tr>\n",
       "    <tr>\n",
       "      <th>20503</th>\n",
       "      <td>9682</td>\n",
       "      <td>Tea</td>\n",
       "      <td>afternoon</td>\n",
       "      <td>weekend</td>\n",
       "      <td>2017-09-04</td>\n",
       "      <td>2017</td>\n",
       "      <td>14:32:00</td>\n",
       "      <td>9</td>\n",
       "      <td>4</td>\n",
       "      <td>0</td>\n",
       "      <td>14</td>\n",
       "    </tr>\n",
       "    <tr>\n",
       "      <th>20504</th>\n",
       "      <td>9683</td>\n",
       "      <td>Coffee</td>\n",
       "      <td>afternoon</td>\n",
       "      <td>weekend</td>\n",
       "      <td>2017-09-04</td>\n",
       "      <td>2017</td>\n",
       "      <td>14:57:00</td>\n",
       "      <td>9</td>\n",
       "      <td>4</td>\n",
       "      <td>0</td>\n",
       "      <td>14</td>\n",
       "    </tr>\n",
       "    <tr>\n",
       "      <th>20505</th>\n",
       "      <td>9683</td>\n",
       "      <td>Pastry</td>\n",
       "      <td>afternoon</td>\n",
       "      <td>weekend</td>\n",
       "      <td>2017-09-04</td>\n",
       "      <td>2017</td>\n",
       "      <td>14:57:00</td>\n",
       "      <td>9</td>\n",
       "      <td>4</td>\n",
       "      <td>0</td>\n",
       "      <td>14</td>\n",
       "    </tr>\n",
       "    <tr>\n",
       "      <th>20506</th>\n",
       "      <td>9684</td>\n",
       "      <td>Smoothies</td>\n",
       "      <td>afternoon</td>\n",
       "      <td>weekend</td>\n",
       "      <td>2017-09-04</td>\n",
       "      <td>2017</td>\n",
       "      <td>15:04:00</td>\n",
       "      <td>9</td>\n",
       "      <td>4</td>\n",
       "      <td>0</td>\n",
       "      <td>15</td>\n",
       "    </tr>\n",
       "  </tbody>\n",
       "</table>\n",
       "<p>20507 rows × 11 columns</p>\n",
       "</div>"
      ],
      "text/plain": [
       "       Transaction           Item period_day weekday_weekend        date  \\\n",
       "0                1          Bread    morning         weekend  2016-10-30   \n",
       "1                2   Scandinavian    morning         weekend  2016-10-30   \n",
       "2                2   Scandinavian    morning         weekend  2016-10-30   \n",
       "3                3  Hot chocolate    morning         weekend  2016-10-30   \n",
       "4                3            Jam    morning         weekend  2016-10-30   \n",
       "...            ...            ...        ...             ...         ...   \n",
       "20502         9682         Coffee  afternoon         weekend  2017-09-04   \n",
       "20503         9682            Tea  afternoon         weekend  2017-09-04   \n",
       "20504         9683         Coffee  afternoon         weekend  2017-09-04   \n",
       "20505         9683         Pastry  afternoon         weekend  2017-09-04   \n",
       "20506         9684      Smoothies  afternoon         weekend  2017-09-04   \n",
       "\n",
       "       year      time  month  day  weekday  hour  \n",
       "0      2016  09:58:00     10   30        6     9  \n",
       "1      2016  10:05:00     10   30        6    10  \n",
       "2      2016  10:05:00     10   30        6    10  \n",
       "3      2016  10:07:00     10   30        6    10  \n",
       "4      2016  10:07:00     10   30        6    10  \n",
       "...     ...       ...    ...  ...      ...   ...  \n",
       "20502  2017  14:32:00      9    4        0    14  \n",
       "20503  2017  14:32:00      9    4        0    14  \n",
       "20504  2017  14:57:00      9    4        0    14  \n",
       "20505  2017  14:57:00      9    4        0    14  \n",
       "20506  2017  15:04:00      9    4        0    15  \n",
       "\n",
       "[20507 rows x 11 columns]"
      ]
     },
     "execution_count": 20,
     "metadata": {},
     "output_type": "execute_result"
    }
   ],
   "source": [
    "df"
   ]
  },
  {
   "cell_type": "code",
   "execution_count": 21,
   "id": "24136259",
   "metadata": {},
   "outputs": [],
   "source": [
    "df['month'].replace((1,2,3,4,5,6,7,8,9,10,11,12),('January','February','March','April','May','June','July','August','September','October','November','December'),inplace=True)"
   ]
  },
  {
   "cell_type": "code",
   "execution_count": 22,
   "id": "30122241",
   "metadata": {},
   "outputs": [],
   "source": [
    "df['weekday'].replace((0,1,2,3,4,5,6),('Sunday','Monday','Tuesday','Wednesday','Thursday','Friday','Saturday'),inplace=True)"
   ]
  },
  {
   "cell_type": "code",
   "execution_count": 23,
   "id": "3cc9e135",
   "metadata": {},
   "outputs": [],
   "source": [
    "#as we already got some new columns with the information of each day, so we are going to drop the column of 'weekday_weekend'\n",
    "df.drop('weekday_weekend',axis=1,inplace=True)"
   ]
  },
  {
   "cell_type": "code",
   "execution_count": 24,
   "id": "594d242a",
   "metadata": {},
   "outputs": [],
   "source": [
    "df['hour'].replace((1,2,3,4,5,6,7,8,9,10,11,12,13,14,15,16,17,18,19,20,21,22,23),('1-2','2-3','3-4','4-5','5-6','6-7','7-8','8-9','9-10','10-11','11-12','12-13','13-14','14-15','15-16','16-17','17-18','18-19','19-20','20-21','21-22','22-23','23-24'),inplace=True)"
   ]
  },
  {
   "cell_type": "code",
   "execution_count": 26,
   "id": "1b091666",
   "metadata": {},
   "outputs": [
    {
     "data": {
      "text/plain": [
       "11-12    3102\n",
       "12-13    2854\n",
       "10-11    2666\n",
       "14-15    2640\n",
       "13-14    2617\n",
       "15-16    2115\n",
       "9-10     1966\n",
       "16-17    1343\n",
       "8-9       645\n",
       "17-18     368\n",
       "18-19      82\n",
       "19-20      48\n",
       "7-8        24\n",
       "20-21      22\n",
       "22-23       8\n",
       "21-22       3\n",
       "23-24       3\n",
       "1-2         1\n",
       "Name: hour, dtype: int64"
      ]
     },
     "execution_count": 26,
     "metadata": {},
     "output_type": "execute_result"
    }
   ],
   "source": [
    "df['hour'].value_counts()"
   ]
  },
  {
   "cell_type": "code",
   "execution_count": 28,
   "id": "928508b3",
   "metadata": {},
   "outputs": [
    {
     "data": {
      "text/plain": [
       "0                Bread\n",
       "1         Scandinavian\n",
       "2         Scandinavian\n",
       "3        Hot chocolate\n",
       "4                  Jam\n",
       "             ...      \n",
       "20502           Coffee\n",
       "20503              Tea\n",
       "20504           Coffee\n",
       "20505           Pastry\n",
       "20506        Smoothies\n",
       "Name: Item, Length: 20507, dtype: object"
      ]
     },
     "execution_count": 28,
     "metadata": {},
     "output_type": "execute_result"
    }
   ],
   "source": [
    "df['Item']=df['Item'].str.strip()\n",
    "df['Item']"
   ]
  },
  {
   "cell_type": "code",
   "execution_count": 29,
   "id": "4fc20ee4",
   "metadata": {},
   "outputs": [
    {
     "data": {
      "text/plain": [
       "0                bread\n",
       "1         scandinavian\n",
       "2         scandinavian\n",
       "3        hot chocolate\n",
       "4                  jam\n",
       "             ...      \n",
       "20502           coffee\n",
       "20503              tea\n",
       "20504           coffee\n",
       "20505           pastry\n",
       "20506        smoothies\n",
       "Name: Item, Length: 20507, dtype: object"
      ]
     },
     "execution_count": 29,
     "metadata": {},
     "output_type": "execute_result"
    }
   ],
   "source": [
    "df['Item']=df['Item'].str.lower()\n",
    "df['Item']"
   ]
  },
  {
   "cell_type": "code",
   "execution_count": null,
   "id": "a9dea122",
   "metadata": {},
   "outputs": [],
   "source": [
    "#EDA\n",
    "#Univariate"
   ]
  },
  {
   "cell_type": "code",
   "execution_count": 30,
   "id": "26fed2dc",
   "metadata": {},
   "outputs": [
    {
     "data": {
      "text/plain": [
       "9465"
      ]
     },
     "execution_count": 30,
     "metadata": {},
     "output_type": "execute_result"
    }
   ],
   "source": [
    "len(np.unique(df['Transaction']))"
   ]
  },
  {
   "cell_type": "code",
   "execution_count": null,
   "id": "12e95560",
   "metadata": {},
   "outputs": [],
   "source": [
    "#there are 9465 unique transactions we have"
   ]
  },
  {
   "cell_type": "code",
   "execution_count": 31,
   "id": "b19d697e",
   "metadata": {},
   "outputs": [
    {
     "data": {
      "text/plain": [
       "94"
      ]
     },
     "execution_count": 31,
     "metadata": {},
     "output_type": "execute_result"
    }
   ],
   "source": [
    "len(np.unique(df['Item']))"
   ]
  },
  {
   "cell_type": "code",
   "execution_count": 32,
   "id": "25b17193",
   "metadata": {},
   "outputs": [
    {
     "data": {
      "image/png": "[encoded data removed]",
      "text/plain": [
       "<Figure size 1000x1000 with 1 Axes>"
      ]
     },
     "metadata": {},
     "output_type": "display_data"
    }
   ],
   "source": [
    "plt.figure(figsize=(10,10))\n",
    "sns.countplot(x=df['Item'])\n",
    "plt.xticks(rotation=90)\n",
    "plt.show()"
   ]
  },
  {
   "cell_type": "code",
   "execution_count": 33,
   "id": "edbe9cb6",
   "metadata": {},
   "outputs": [
    {
     "data": {
      "text/plain": [
       "coffee           5471\n",
       "bread            3325\n",
       "tea              1435\n",
       "cake             1025\n",
       "pastry            856\n",
       "sandwich          771\n",
       "medialuna         616\n",
       "hot chocolate     590\n",
       "cookies           540\n",
       "brownie           379\n",
       "farm house        374\n",
       "muffin            370\n",
       "alfajores         369\n",
       "juice             369\n",
       "soup              342\n",
       "scone             327\n",
       "toast             318\n",
       "scandinavian      277\n",
       "truffles          193\n",
       "coke              185\n",
       "Name: Item, dtype: int64"
      ]
     },
     "execution_count": 33,
     "metadata": {},
     "output_type": "execute_result"
    }
   ],
   "source": [
    "#details of first 20 items which are mostly getting sold\n",
    "data_item=df['Item'].value_counts()[0:20]\n",
    "data_item"
   ]
  },
  {
   "cell_type": "code",
   "execution_count": 34,
   "id": "08691b02",
   "metadata": {},
   "outputs": [
    {
     "data": {
      "image/png": "[encoded data removed]",
      "text/plain": [
       "<Figure size 640x480 with 1 Axes>"
      ]
     },
     "metadata": {},
     "output_type": "display_data"
    }
   ],
   "source": [
    "plt.bar(data_item.index,data_item.values)\n",
    "plt.xticks(rotation=90)\n",
    "plt.show()"
   ]
  },
  {
   "cell_type": "code",
   "execution_count": 36,
   "id": "ee80aa7e",
   "metadata": {},
   "outputs": [
    {
     "data": {
      "text/plain": [
       "afternoon    11569\n",
       "morning       8404\n",
       "evening        520\n",
       "night           14\n",
       "Name: period_day, dtype: int64"
      ]
     },
     "execution_count": 36,
     "metadata": {},
     "output_type": "execute_result"
    }
   ],
   "source": [
    "df['period_day'].value_counts()"
   ]
  },
  {
   "cell_type": "code",
   "execution_count": 37,
   "id": "62a4619a",
   "metadata": {},
   "outputs": [
    {
     "data": {
      "image/png": "[encoded data removed]",
      "text/plain": [
       "<Figure size 640x480 with 1 Axes>"
      ]
     },
     "metadata": {},
     "output_type": "display_data"
    }
   ],
   "source": [
    "#so, the most number of transactions are happening in the afternoon\n",
    "sns.countplot(x=df['period_day'])\n",
    "plt.show()"
   ]
  },
  {
   "cell_type": "code",
   "execution_count": 38,
   "id": "13dff953",
   "metadata": {},
   "outputs": [
    {
     "data": {
      "image/png": "[encoded data removed]",
      "text/plain": [
       "<Figure size 640x480 with 1 Axes>"
      ]
     },
     "metadata": {},
     "output_type": "display_data"
    }
   ],
   "source": [
    "sns.countplot(x=df['day'])\n",
    "plt.show()"
   ]
  },
  {
   "cell_type": "code",
   "execution_count": 39,
   "id": "462de4af",
   "metadata": {},
   "outputs": [
    {
     "data": {
      "image/png": "[encoded data removed]",
      "text/plain": [
       "<Figure size 640x480 with 1 Axes>"
      ]
     },
     "metadata": {},
     "output_type": "display_data"
    }
   ],
   "source": [
    "sns.countplot(x=df['month'])\n",
    "plt.xticks(rotation=90)\n",
    "plt.show()"
   ]
  },
  {
   "cell_type": "code",
   "execution_count": 40,
   "id": "f4b3cd5a",
   "metadata": {},
   "outputs": [
    {
     "data": {
      "image/png": "[encoded data removed]",
      "text/plain": [
       "<Figure size 640x480 with 1 Axes>"
      ]
     },
     "metadata": {},
     "output_type": "display_data"
    }
   ],
   "source": [
    "sns.countplot(x=df['year'])\n",
    "plt.xticks(rotation=90)\n",
    "plt.show()"
   ]
  },
  {
   "cell_type": "code",
   "execution_count": 41,
   "id": "56f3ef1d",
   "metadata": {},
   "outputs": [
    {
     "data": {
      "image/png": "[encoded data removed]",
      "text/plain": [
       "<Figure size 640x480 with 1 Axes>"
      ]
     },
     "metadata": {},
     "output_type": "display_data"
    }
   ],
   "source": [
    "sns.countplot(x=df['weekday'])\n",
    "plt.xticks(rotation=90)\n",
    "plt.show()"
   ]
  },
  {
   "cell_type": "code",
   "execution_count": 42,
   "id": "9de1a145",
   "metadata": {},
   "outputs": [
    {
     "data": {
      "image/png": "[encoded data removed]",
      "text/plain": [
       "<Figure size 640x480 with 1 Axes>"
      ]
     },
     "metadata": {},
     "output_type": "display_data"
    }
   ],
   "source": [
    "sns.countplot(x=df['hour'])\n",
    "plt.xticks(rotation=90)\n",
    "plt.show()"
   ]
  },
  {
   "cell_type": "code",
   "execution_count": 43,
   "id": "62a7c992",
   "metadata": {},
   "outputs": [
    {
     "name": "stdout",
     "output_type": "stream",
     "text": [
      "Defaulting to user installation because normal site-packages is not writeable\n",
      "Collecting mlxtend\n",
      "  Obtaining dependency information for mlxtend from https://files.pythonhosted.org/packages/1c/07/512f6a780239ad6ce06ce2aa7b4067583f5ddcfc7703a964a082c706a070/mlxtend-0.23.1-py3-none-any.whl.metadata\n",
      "  Downloading mlxtend-0.23.1-py3-none-any.whl.metadata (7.3 kB)\n",
      "Requirement already satisfied: scipy>=1.2.1 in c:\\programdata\\anaconda3\\lib\\site-packages (from mlxtend) (1.10.1)\n",
      "Requirement already satisfied: numpy>=1.16.2 in c:\\programdata\\anaconda3\\lib\\site-packages (from mlxtend) (1.24.3)\n",
      "Requirement already satisfied: pandas>=0.24.2 in c:\\programdata\\anaconda3\\lib\\site-packages (from mlxtend) (1.5.3)\n",
      "Requirement already satisfied: scikit-learn>=1.0.2 in c:\\programdata\\anaconda3\\lib\\site-packages (from mlxtend) (1.3.0)\n",
      "Requirement already satisfied: matplotlib>=3.0.0 in c:\\programdata\\anaconda3\\lib\\site-packages (from mlxtend) (3.7.1)\n",
      "Requirement already satisfied: joblib>=0.13.2 in c:\\programdata\\anaconda3\\lib\\site-packages (from mlxtend) (1.2.0)\n",
      "Requirement already satisfied: contourpy>=1.0.1 in c:\\programdata\\anaconda3\\lib\\site-packages (from matplotlib>=3.0.0->mlxtend) (1.0.5)\n",
      "Requirement already satisfied: cycler>=0.10 in c:\\programdata\\anaconda3\\lib\\site-packages (from matplotlib>=3.0.0->mlxtend) (0.11.0)\n",
      "Requirement already satisfied: fonttools>=4.22.0 in c:\\programdata\\anaconda3\\lib\\site-packages (from matplotlib>=3.0.0->mlxtend) (4.25.0)\n",
      "Requirement already satisfied: kiwisolver>=1.0.1 in c:\\programdata\\anaconda3\\lib\\site-packages (from matplotlib>=3.0.0->mlxtend) (1.4.4)\n",
      "Requirement already satisfied: packaging>=20.0 in c:\\programdata\\anaconda3\\lib\\site-packages (from matplotlib>=3.0.0->mlxtend) (23.0)\n",
      "Requirement already satisfied: pillow>=6.2.0 in c:\\programdata\\anaconda3\\lib\\site-packages (from matplotlib>=3.0.0->mlxtend) (9.4.0)\n",
      "Requirement already satisfied: pyparsing>=2.3.1 in c:\\programdata\\anaconda3\\lib\\site-packages (from matplotlib>=3.0.0->mlxtend) (3.0.9)\n",
      "Requirement already satisfied: python-dateutil>=2.7 in c:\\programdata\\anaconda3\\lib\\site-packages (from matplotlib>=3.0.0->mlxtend) (2.8.2)\n",
      "Requirement already satisfied: pytz>=2020.1 in c:\\programdata\\anaconda3\\lib\\site-packages (from pandas>=0.24.2->mlxtend) (2022.7)\n",
      "Requirement already satisfied: threadpoolctl>=2.0.0 in c:\\programdata\\anaconda3\\lib\\site-packages (from scikit-learn>=1.0.2->mlxtend) (2.2.0)\n",
      "Requirement already satisfied: six>=1.5 in c:\\programdata\\anaconda3\\lib\\site-packages (from python-dateutil>=2.7->matplotlib>=3.0.0->mlxtend) (1.16.0)\n",
      "Downloading mlxtend-0.23.1-py3-none-any.whl (1.4 MB)\n",
      "   ---------------------------------------- 0.0/1.4 MB ? eta -:--:--\n",
      "   - -------------------------------------- 0.1/1.4 MB 3.2 MB/s eta 0:00:01\n",
      "   - -------------------------------------- 0.1/1.4 MB 3.2 MB/s eta 0:00:01\n",
      "   -- ------------------------------------- 0.1/1.4 MB 657.6 kB/s eta 0:00:03\n",
      "   -- ------------------------------------- 0.1/1.4 MB 438.1 kB/s eta 0:00:04\n",
      "   -- ------------------------------------- 0.1/1.4 MB 438.1 kB/s eta 0:00:04\n",
      "   --- ------------------------------------ 0.1/1.4 MB 437.6 kB/s eta 0:00:04\n",
      "   --- ------------------------------------ 0.1/1.4 MB 361.0 kB/s eta 0:00:04\n",
      "   --- ------------------------------------ 0.1/1.4 MB 387.0 kB/s eta 0:00:04\n",
      "   --- ------------------------------------ 0.1/1.4 MB 387.0 kB/s eta 0:00:04\n",
      "   ---- ----------------------------------- 0.2/1.4 MB 364.0 kB/s eta 0:00:04\n",
      "   ---- ----------------------------------- 0.2/1.4 MB 349.3 kB/s eta 0:00:04\n",
      "   ---- ----------------------------------- 0.2/1.4 MB 349.3 kB/s eta 0:00:04\n",
      "   ----- ---------------------------------- 0.2/1.4 MB 328.0 kB/s eta 0:00:04\n",
      "   ----- ---------------------------------- 0.2/1.4 MB 303.5 kB/s eta 0:00:05\n",
      "   ----- ---------------------------------- 0.2/1.4 MB 303.5 kB/s eta 0:00:05\n",
      "   ------ --------------------------------- 0.2/1.4 MB 299.1 kB/s eta 0:00:05\n",
      "   ------ --------------------------------- 0.2/1.4 MB 299.1 kB/s eta 0:00:05\n",
      "   ------ --------------------------------- 0.2/1.4 MB 295.5 kB/s eta 0:00:05\n",
      "   ------ --------------------------------- 0.2/1.4 MB 295.5 kB/s eta 0:00:05\n",
      "   ------- -------------------------------- 0.3/1.4 MB 282.6 kB/s eta 0:00:05\n",
      "   ------- -------------------------------- 0.3/1.4 MB 282.6 kB/s eta 0:00:05\n",
      "   ------- -------------------------------- 0.3/1.4 MB 282.6 kB/s eta 0:00:05\n",
      "   ------- -------------------------------- 0.3/1.4 MB 268.2 kB/s eta 0:00:05\n",
      "   -------- ------------------------------- 0.3/1.4 MB 258.5 kB/s eta 0:00:05\n",
      "   -------- ------------------------------- 0.3/1.4 MB 258.5 kB/s eta 0:00:05\n",
      "   -------- ------------------------------- 0.3/1.4 MB 258.8 kB/s eta 0:00:05\n",
      "   -------- ------------------------------- 0.3/1.4 MB 258.8 kB/s eta 0:00:05\n",
      "   -------- ------------------------------- 0.3/1.4 MB 258.8 kB/s eta 0:00:05\n",
      "   -------- ------------------------------- 0.3/1.4 MB 258.8 kB/s eta 0:00:05\n",
      "   -------- ------------------------------- 0.3/1.4 MB 258.8 kB/s eta 0:00:05\n",
      "   -------- ------------------------------- 0.3/1.4 MB 258.8 kB/s eta 0:00:05\n",
      "   -------- ------------------------------- 0.3/1.4 MB 258.8 kB/s eta 0:00:05\n",
      "   -------- ------------------------------- 0.3/1.4 MB 258.8 kB/s eta 0:00:05\n",
      "   -------- ------------------------------- 0.3/1.4 MB 258.8 kB/s eta 0:00:05\n",
      "   -------- ------------------------------- 0.3/1.4 MB 258.8 kB/s eta 0:00:05\n",
      "   -------- ------------------------------- 0.3/1.4 MB 258.8 kB/s eta 0:00:05\n",
      "   ---------- ----------------------------- 0.4/1.4 MB 210.5 kB/s eta 0:00:06\n",
      "   ------------ --------------------------- 0.5/1.4 MB 249.3 kB/s eta 0:00:05\n",
      "   ------------ --------------------------- 0.5/1.4 MB 249.3 kB/s eta 0:00:05\n",
      "   ------------ --------------------------- 0.5/1.4 MB 249.3 kB/s eta 0:00:05\n",
      "   ------------ --------------------------- 0.5/1.4 MB 236.4 kB/s eta 0:00:05\n",
      "   ------------- -------------------------- 0.5/1.4 MB 241.2 kB/s eta 0:00:05\n",
      "   ------------- -------------------------- 0.5/1.4 MB 241.2 kB/s eta 0:00:05\n",
      "   ------------- -------------------------- 0.5/1.4 MB 238.7 kB/s eta 0:00:05\n",
      "   -------------- ------------------------- 0.5/1.4 MB 243.3 kB/s eta 0:00:04\n",
      "   -------------- ------------------------- 0.5/1.4 MB 245.8 kB/s eta 0:00:04\n",
      "   -------------- ------------------------- 0.5/1.4 MB 245.8 kB/s eta 0:00:04\n",
      "   -------------- ------------------------- 0.5/1.4 MB 243.5 kB/s eta 0:00:04\n",
      "   --------------- ------------------------ 0.6/1.4 MB 244.0 kB/s eta 0:00:04\n",
      "   --------------- ------------------------ 0.6/1.4 MB 244.0 kB/s eta 0:00:04\n",
      "   --------------- ------------------------ 0.6/1.4 MB 238.7 kB/s eta 0:00:04\n",
      "   --------------- ------------------------ 0.6/1.4 MB 238.7 kB/s eta 0:00:04\n",
      "   ---------------- ----------------------- 0.6/1.4 MB 241.0 kB/s eta 0:00:04\n",
      "   ---------------- ----------------------- 0.6/1.4 MB 241.7 kB/s eta 0:00:04\n",
      "   ---------------- ----------------------- 0.6/1.4 MB 241.7 kB/s eta 0:00:04\n",
      "   ----------------- ---------------------- 0.6/1.4 MB 236.9 kB/s eta 0:00:04\n",
      "   ----------------- ---------------------- 0.6/1.4 MB 236.9 kB/s eta 0:00:04\n",
      "   ----------------- ---------------------- 0.6/1.4 MB 236.9 kB/s eta 0:00:04\n",
      "   ----------------- ---------------------- 0.6/1.4 MB 234.9 kB/s eta 0:00:04\n",
      "   ----------------- ---------------------- 0.6/1.4 MB 234.9 kB/s eta 0:00:04\n",
      "   ------------------ --------------------- 0.7/1.4 MB 228.1 kB/s eta 0:00:04\n",
      "   ------------------ --------------------- 0.7/1.4 MB 231.5 kB/s eta 0:00:04\n",
      "   ------------------ --------------------- 0.7/1.4 MB 231.5 kB/s eta 0:00:04\n",
      "   ------------------- -------------------- 0.7/1.4 MB 233.6 kB/s eta 0:00:04\n",
      "   ------------------- -------------------- 0.7/1.4 MB 230.9 kB/s eta 0:00:04\n",
      "   -------------------- ------------------- 0.7/1.4 MB 234.1 kB/s eta 0:00:04\n",
      "   -------------------- ------------------- 0.7/1.4 MB 234.1 kB/s eta 0:00:04\n",
      "   -------------------- ------------------- 0.7/1.4 MB 230.4 kB/s eta 0:00:04\n",
      "   -------------------- ------------------- 0.7/1.4 MB 230.4 kB/s eta 0:00:04\n",
      "   -------------------- ------------------- 0.8/1.4 MB 232.2 kB/s eta 0:00:03\n",
      "   --------------------- ------------------ 0.8/1.4 MB 232.9 kB/s eta 0:00:03\n",
      "   --------------------- ------------------ 0.8/1.4 MB 232.9 kB/s eta 0:00:03\n",
      "   --------------------- ------------------ 0.8/1.4 MB 229.5 kB/s eta 0:00:03\n",
      "   --------------------- ------------------ 0.8/1.4 MB 229.5 kB/s eta 0:00:03\n",
      "   ---------------------- ----------------- 0.8/1.4 MB 230.2 kB/s eta 0:00:03\n",
      "   ---------------------- ----------------- 0.8/1.4 MB 230.2 kB/s eta 0:00:03\n",
      "   ---------------------- ----------------- 0.8/1.4 MB 228.1 kB/s eta 0:00:03\n",
      "   ----------------------- ---------------- 0.8/1.4 MB 229.8 kB/s eta 0:00:03\n",
      "   ----------------------- ---------------- 0.9/1.4 MB 232.5 kB/s eta 0:00:03\n",
      "   ------------------------ --------------- 0.9/1.4 MB 231.3 kB/s eta 0:00:03\n",
      "   ------------------------ --------------- 0.9/1.4 MB 234.8 kB/s eta 0:00:03\n",
      "   ------------------------ --------------- 0.9/1.4 MB 234.8 kB/s eta 0:00:03\n",
      "   ------------------------ --------------- 0.9/1.4 MB 234.8 kB/s eta 0:00:03\n",
      "   ------------------------ --------------- 0.9/1.4 MB 229.9 kB/s eta 0:00:03\n",
      "   ------------------------- -------------- 0.9/1.4 MB 232.4 kB/s eta 0:00:03\n",
      "   ------------------------- -------------- 0.9/1.4 MB 233.9 kB/s eta 0:00:03\n",
      "   -------------------------- ------------- 1.0/1.4 MB 232.8 kB/s eta 0:00:03\n",
      "   -------------------------- ------------- 1.0/1.4 MB 235.1 kB/s eta 0:00:03\n",
      "   --------------------------- ------------ 1.0/1.4 MB 234.9 kB/s eta 0:00:02\n",
      "   --------------------------- ------------ 1.0/1.4 MB 237.2 kB/s eta 0:00:02\n",
      "   ---------------------------- ----------- 1.0/1.4 MB 239.4 kB/s eta 0:00:02\n",
      "   ---------------------------- ----------- 1.0/1.4 MB 239.4 kB/s eta 0:00:02\n",
      "   ---------------------------- ----------- 1.0/1.4 MB 239.0 kB/s eta 0:00:02\n",
      "   ----------------------------- ---------- 1.1/1.4 MB 240.4 kB/s eta 0:00:02\n",
      "   ----------------------------- ---------- 1.1/1.4 MB 240.2 kB/s eta 0:00:02\n",
      "   ----------------------------- ---------- 1.1/1.4 MB 242.3 kB/s eta 0:00:02\n",
      "   ------------------------------ --------- 1.1/1.4 MB 243.5 kB/s eta 0:00:02\n",
      "   ------------------------------ --------- 1.1/1.4 MB 243.2 kB/s eta 0:00:02\n",
      "   ------------------------------- -------- 1.1/1.4 MB 245.2 kB/s eta 0:00:02\n",
      "   ------------------------------- -------- 1.1/1.4 MB 244.9 kB/s eta 0:00:02\n",
      "   -------------------------------- ------- 1.2/1.4 MB 247.7 kB/s eta 0:00:02\n",
      "   -------------------------------- ------- 1.2/1.4 MB 249.5 kB/s eta 0:00:02\n",
      "   -------------------------------- ------- 1.2/1.4 MB 249.5 kB/s eta 0:00:02\n",
      "   --------------------------------- ------ 1.2/1.4 MB 246.0 kB/s eta 0:00:02\n",
      "   --------------------------------- ------ 1.2/1.4 MB 246.0 kB/s eta 0:00:02\n",
      "   --------------------------------- ------ 1.2/1.4 MB 246.3 kB/s eta 0:00:01\n",
      "   --------------------------------- ------ 1.2/1.4 MB 246.8 kB/s eta 0:00:01\n",
      "   ---------------------------------- ----- 1.2/1.4 MB 248.6 kB/s eta 0:00:01\n",
      "   ----------------------------------- ---- 1.3/1.4 MB 250.4 kB/s eta 0:00:01\n",
      "   ----------------------------------- ---- 1.3/1.4 MB 249.3 kB/s eta 0:00:01\n",
      "   ----------------------------------- ---- 1.3/1.4 MB 249.3 kB/s eta 0:00:01\n",
      "   ----------------------------------- ---- 1.3/1.4 MB 248.7 kB/s eta 0:00:01\n",
      "   ------------------------------------ --- 1.3/1.4 MB 247.0 kB/s eta 0:00:01\n",
      "   ------------------------------------ --- 1.3/1.4 MB 247.0 kB/s eta 0:00:01\n",
      "   ------------------------------------ --- 1.3/1.4 MB 248.7 kB/s eta 0:00:01\n",
      "   ------------------------------------- -- 1.4/1.4 MB 250.3 kB/s eta 0:00:01\n",
      "   ------------------------------------- -- 1.4/1.4 MB 248.6 kB/s eta 0:00:01\n",
      "   ------------------------------------- -- 1.4/1.4 MB 249.0 kB/s eta 0:00:01\n",
      "   -------------------------------------- - 1.4/1.4 MB 250.6 kB/s eta 0:00:01\n",
      "   -------------------------------------- - 1.4/1.4 MB 249.7 kB/s eta 0:00:01\n",
      "   ---------------------------------------  1.4/1.4 MB 251.2 kB/s eta 0:00:01\n",
      "   ---------------------------------------  1.4/1.4 MB 252.8 kB/s eta 0:00:01\n",
      "   ---------------------------------------  1.4/1.4 MB 252.8 kB/s eta 0:00:01\n",
      "   ---------------------------------------- 1.4/1.4 MB 249.6 kB/s eta 0:00:00\n",
      "Installing collected packages: mlxtend\n",
      "Successfully installed mlxtend-0.23.1\n",
      "Note: you may need to restart the kernel to use updated packages.\n"
     ]
    }
   ],
   "source": [
    "pip install mlxtend"
   ]
  },
  {
   "cell_type": "code",
   "execution_count": 44,
   "id": "47f288a6",
   "metadata": {},
   "outputs": [],
   "source": [
    "from mlxtend.frequent_patterns import apriori,association_rules"
   ]
  },
  {
   "cell_type": "code",
   "execution_count": 45,
   "id": "63a29593",
   "metadata": {},
   "outputs": [
    {
     "data": {
      "text/html": [
       "<div>\n",
       "<style scoped>\n",
       "    .dataframe tbody tr th:only-of-type {\n",
       "        vertical-align: middle;\n",
       "    }\n",
       "\n",
       "    .dataframe tbody tr th {\n",
       "        vertical-align: top;\n",
       "    }\n",
       "\n",
       "    .dataframe thead th {\n",
       "        text-align: right;\n",
       "    }\n",
       "</style>\n",
       "<table border=\"1\" class=\"dataframe\">\n",
       "  <thead>\n",
       "    <tr style=\"text-align: right;\">\n",
       "      <th></th>\n",
       "      <th>Transaction</th>\n",
       "      <th>Item</th>\n",
       "      <th>count</th>\n",
       "    </tr>\n",
       "  </thead>\n",
       "  <tbody>\n",
       "    <tr>\n",
       "      <th>0</th>\n",
       "      <td>1</td>\n",
       "      <td>bread</td>\n",
       "      <td>1</td>\n",
       "    </tr>\n",
       "    <tr>\n",
       "      <th>1</th>\n",
       "      <td>2</td>\n",
       "      <td>scandinavian</td>\n",
       "      <td>2</td>\n",
       "    </tr>\n",
       "    <tr>\n",
       "      <th>2</th>\n",
       "      <td>3</td>\n",
       "      <td>cookies</td>\n",
       "      <td>1</td>\n",
       "    </tr>\n",
       "    <tr>\n",
       "      <th>3</th>\n",
       "      <td>3</td>\n",
       "      <td>hot chocolate</td>\n",
       "      <td>1</td>\n",
       "    </tr>\n",
       "    <tr>\n",
       "      <th>4</th>\n",
       "      <td>3</td>\n",
       "      <td>jam</td>\n",
       "      <td>1</td>\n",
       "    </tr>\n",
       "    <tr>\n",
       "      <th>...</th>\n",
       "      <td>...</td>\n",
       "      <td>...</td>\n",
       "      <td>...</td>\n",
       "    </tr>\n",
       "    <tr>\n",
       "      <th>18882</th>\n",
       "      <td>9682</td>\n",
       "      <td>tacos/fajita</td>\n",
       "      <td>1</td>\n",
       "    </tr>\n",
       "    <tr>\n",
       "      <th>18883</th>\n",
       "      <td>9682</td>\n",
       "      <td>tea</td>\n",
       "      <td>1</td>\n",
       "    </tr>\n",
       "    <tr>\n",
       "      <th>18884</th>\n",
       "      <td>9683</td>\n",
       "      <td>coffee</td>\n",
       "      <td>1</td>\n",
       "    </tr>\n",
       "    <tr>\n",
       "      <th>18885</th>\n",
       "      <td>9683</td>\n",
       "      <td>pastry</td>\n",
       "      <td>1</td>\n",
       "    </tr>\n",
       "    <tr>\n",
       "      <th>18886</th>\n",
       "      <td>9684</td>\n",
       "      <td>smoothies</td>\n",
       "      <td>1</td>\n",
       "    </tr>\n",
       "  </tbody>\n",
       "</table>\n",
       "<p>18887 rows × 3 columns</p>\n",
       "</div>"
      ],
      "text/plain": [
       "       Transaction           Item  count\n",
       "0                1          bread      1\n",
       "1                2   scandinavian      2\n",
       "2                3        cookies      1\n",
       "3                3  hot chocolate      1\n",
       "4                3            jam      1\n",
       "...            ...            ...    ...\n",
       "18882         9682   tacos/fajita      1\n",
       "18883         9682            tea      1\n",
       "18884         9683         coffee      1\n",
       "18885         9683         pastry      1\n",
       "18886         9684      smoothies      1\n",
       "\n",
       "[18887 rows x 3 columns]"
      ]
     },
     "execution_count": 45,
     "metadata": {},
     "output_type": "execute_result"
    }
   ],
   "source": [
    "final_data=df.groupby(['Transaction','Item'])['Item'].count().reset_index(name='count')\n",
    "final_data"
   ]
  },
  {
   "cell_type": "code",
   "execution_count": 46,
   "id": "f0575bb2",
   "metadata": {},
   "outputs": [
    {
     "data": {
      "text/html": [
       "<div>\n",
       "<style scoped>\n",
       "    .dataframe tbody tr th:only-of-type {\n",
       "        vertical-align: middle;\n",
       "    }\n",
       "\n",
       "    .dataframe tbody tr th {\n",
       "        vertical-align: top;\n",
       "    }\n",
       "\n",
       "    .dataframe thead th {\n",
       "        text-align: right;\n",
       "    }\n",
       "</style>\n",
       "<table border=\"1\" class=\"dataframe\">\n",
       "  <thead>\n",
       "    <tr style=\"text-align: right;\">\n",
       "      <th>Item</th>\n",
       "      <th>adjustment</th>\n",
       "      <th>afternoon with the baker</th>\n",
       "      <th>alfajores</th>\n",
       "      <th>argentina night</th>\n",
       "      <th>art tray</th>\n",
       "      <th>bacon</th>\n",
       "      <th>baguette</th>\n",
       "      <th>bakewell</th>\n",
       "      <th>bare popcorn</th>\n",
       "      <th>basket</th>\n",
       "      <th>...</th>\n",
       "      <th>the bart</th>\n",
       "      <th>the nomad</th>\n",
       "      <th>tiffin</th>\n",
       "      <th>toast</th>\n",
       "      <th>truffles</th>\n",
       "      <th>tshirt</th>\n",
       "      <th>valentine's card</th>\n",
       "      <th>vegan feast</th>\n",
       "      <th>vegan mincepie</th>\n",
       "      <th>victorian sponge</th>\n",
       "    </tr>\n",
       "    <tr>\n",
       "      <th>Transaction</th>\n",
       "      <th></th>\n",
       "      <th></th>\n",
       "      <th></th>\n",
       "      <th></th>\n",
       "      <th></th>\n",
       "      <th></th>\n",
       "      <th></th>\n",
       "      <th></th>\n",
       "      <th></th>\n",
       "      <th></th>\n",
       "      <th></th>\n",
       "      <th></th>\n",
       "      <th></th>\n",
       "      <th></th>\n",
       "      <th></th>\n",
       "      <th></th>\n",
       "      <th></th>\n",
       "      <th></th>\n",
       "      <th></th>\n",
       "      <th></th>\n",
       "      <th></th>\n",
       "    </tr>\n",
       "  </thead>\n",
       "  <tbody>\n",
       "    <tr>\n",
       "      <th>1</th>\n",
       "      <td>0.0</td>\n",
       "      <td>0.0</td>\n",
       "      <td>0.0</td>\n",
       "      <td>0.0</td>\n",
       "      <td>0.0</td>\n",
       "      <td>0.0</td>\n",
       "      <td>0.0</td>\n",
       "      <td>0.0</td>\n",
       "      <td>0.0</td>\n",
       "      <td>0.0</td>\n",
       "      <td>...</td>\n",
       "      <td>0.0</td>\n",
       "      <td>0.0</td>\n",
       "      <td>0.0</td>\n",
       "      <td>0.0</td>\n",
       "      <td>0.0</td>\n",
       "      <td>0.0</td>\n",
       "      <td>0.0</td>\n",
       "      <td>0.0</td>\n",
       "      <td>0.0</td>\n",
       "      <td>0.0</td>\n",
       "    </tr>\n",
       "    <tr>\n",
       "      <th>2</th>\n",
       "      <td>0.0</td>\n",
       "      <td>0.0</td>\n",
       "      <td>0.0</td>\n",
       "      <td>0.0</td>\n",
       "      <td>0.0</td>\n",
       "      <td>0.0</td>\n",
       "      <td>0.0</td>\n",
       "      <td>0.0</td>\n",
       "      <td>0.0</td>\n",
       "      <td>0.0</td>\n",
       "      <td>...</td>\n",
       "      <td>0.0</td>\n",
       "      <td>0.0</td>\n",
       "      <td>0.0</td>\n",
       "      <td>0.0</td>\n",
       "      <td>0.0</td>\n",
       "      <td>0.0</td>\n",
       "      <td>0.0</td>\n",
       "      <td>0.0</td>\n",
       "      <td>0.0</td>\n",
       "      <td>0.0</td>\n",
       "    </tr>\n",
       "    <tr>\n",
       "      <th>3</th>\n",
       "      <td>0.0</td>\n",
       "      <td>0.0</td>\n",
       "      <td>0.0</td>\n",
       "      <td>0.0</td>\n",
       "      <td>0.0</td>\n",
       "      <td>0.0</td>\n",
       "      <td>0.0</td>\n",
       "      <td>0.0</td>\n",
       "      <td>0.0</td>\n",
       "      <td>0.0</td>\n",
       "      <td>...</td>\n",
       "      <td>0.0</td>\n",
       "      <td>0.0</td>\n",
       "      <td>0.0</td>\n",
       "      <td>0.0</td>\n",
       "      <td>0.0</td>\n",
       "      <td>0.0</td>\n",
       "      <td>0.0</td>\n",
       "      <td>0.0</td>\n",
       "      <td>0.0</td>\n",
       "      <td>0.0</td>\n",
       "    </tr>\n",
       "    <tr>\n",
       "      <th>4</th>\n",
       "      <td>0.0</td>\n",
       "      <td>0.0</td>\n",
       "      <td>0.0</td>\n",
       "      <td>0.0</td>\n",
       "      <td>0.0</td>\n",
       "      <td>0.0</td>\n",
       "      <td>0.0</td>\n",
       "      <td>0.0</td>\n",
       "      <td>0.0</td>\n",
       "      <td>0.0</td>\n",
       "      <td>...</td>\n",
       "      <td>0.0</td>\n",
       "      <td>0.0</td>\n",
       "      <td>0.0</td>\n",
       "      <td>0.0</td>\n",
       "      <td>0.0</td>\n",
       "      <td>0.0</td>\n",
       "      <td>0.0</td>\n",
       "      <td>0.0</td>\n",
       "      <td>0.0</td>\n",
       "      <td>0.0</td>\n",
       "    </tr>\n",
       "    <tr>\n",
       "      <th>5</th>\n",
       "      <td>0.0</td>\n",
       "      <td>0.0</td>\n",
       "      <td>0.0</td>\n",
       "      <td>0.0</td>\n",
       "      <td>0.0</td>\n",
       "      <td>0.0</td>\n",
       "      <td>0.0</td>\n",
       "      <td>0.0</td>\n",
       "      <td>0.0</td>\n",
       "      <td>0.0</td>\n",
       "      <td>...</td>\n",
       "      <td>0.0</td>\n",
       "      <td>0.0</td>\n",
       "      <td>0.0</td>\n",
       "      <td>0.0</td>\n",
       "      <td>0.0</td>\n",
       "      <td>0.0</td>\n",
       "      <td>0.0</td>\n",
       "      <td>0.0</td>\n",
       "      <td>0.0</td>\n",
       "      <td>0.0</td>\n",
       "    </tr>\n",
       "    <tr>\n",
       "      <th>...</th>\n",
       "      <td>...</td>\n",
       "      <td>...</td>\n",
       "      <td>...</td>\n",
       "      <td>...</td>\n",
       "      <td>...</td>\n",
       "      <td>...</td>\n",
       "      <td>...</td>\n",
       "      <td>...</td>\n",
       "      <td>...</td>\n",
       "      <td>...</td>\n",
       "      <td>...</td>\n",
       "      <td>...</td>\n",
       "      <td>...</td>\n",
       "      <td>...</td>\n",
       "      <td>...</td>\n",
       "      <td>...</td>\n",
       "      <td>...</td>\n",
       "      <td>...</td>\n",
       "      <td>...</td>\n",
       "      <td>...</td>\n",
       "      <td>...</td>\n",
       "    </tr>\n",
       "    <tr>\n",
       "      <th>9680</th>\n",
       "      <td>0.0</td>\n",
       "      <td>0.0</td>\n",
       "      <td>0.0</td>\n",
       "      <td>0.0</td>\n",
       "      <td>0.0</td>\n",
       "      <td>0.0</td>\n",
       "      <td>0.0</td>\n",
       "      <td>0.0</td>\n",
       "      <td>0.0</td>\n",
       "      <td>0.0</td>\n",
       "      <td>...</td>\n",
       "      <td>0.0</td>\n",
       "      <td>0.0</td>\n",
       "      <td>0.0</td>\n",
       "      <td>0.0</td>\n",
       "      <td>0.0</td>\n",
       "      <td>0.0</td>\n",
       "      <td>0.0</td>\n",
       "      <td>0.0</td>\n",
       "      <td>0.0</td>\n",
       "      <td>0.0</td>\n",
       "    </tr>\n",
       "    <tr>\n",
       "      <th>9681</th>\n",
       "      <td>0.0</td>\n",
       "      <td>0.0</td>\n",
       "      <td>0.0</td>\n",
       "      <td>0.0</td>\n",
       "      <td>0.0</td>\n",
       "      <td>0.0</td>\n",
       "      <td>0.0</td>\n",
       "      <td>0.0</td>\n",
       "      <td>0.0</td>\n",
       "      <td>0.0</td>\n",
       "      <td>...</td>\n",
       "      <td>0.0</td>\n",
       "      <td>0.0</td>\n",
       "      <td>0.0</td>\n",
       "      <td>0.0</td>\n",
       "      <td>1.0</td>\n",
       "      <td>0.0</td>\n",
       "      <td>0.0</td>\n",
       "      <td>0.0</td>\n",
       "      <td>0.0</td>\n",
       "      <td>0.0</td>\n",
       "    </tr>\n",
       "    <tr>\n",
       "      <th>9682</th>\n",
       "      <td>0.0</td>\n",
       "      <td>0.0</td>\n",
       "      <td>0.0</td>\n",
       "      <td>0.0</td>\n",
       "      <td>0.0</td>\n",
       "      <td>0.0</td>\n",
       "      <td>0.0</td>\n",
       "      <td>0.0</td>\n",
       "      <td>0.0</td>\n",
       "      <td>0.0</td>\n",
       "      <td>...</td>\n",
       "      <td>0.0</td>\n",
       "      <td>0.0</td>\n",
       "      <td>0.0</td>\n",
       "      <td>0.0</td>\n",
       "      <td>0.0</td>\n",
       "      <td>0.0</td>\n",
       "      <td>0.0</td>\n",
       "      <td>0.0</td>\n",
       "      <td>0.0</td>\n",
       "      <td>0.0</td>\n",
       "    </tr>\n",
       "    <tr>\n",
       "      <th>9683</th>\n",
       "      <td>0.0</td>\n",
       "      <td>0.0</td>\n",
       "      <td>0.0</td>\n",
       "      <td>0.0</td>\n",
       "      <td>0.0</td>\n",
       "      <td>0.0</td>\n",
       "      <td>0.0</td>\n",
       "      <td>0.0</td>\n",
       "      <td>0.0</td>\n",
       "      <td>0.0</td>\n",
       "      <td>...</td>\n",
       "      <td>0.0</td>\n",
       "      <td>0.0</td>\n",
       "      <td>0.0</td>\n",
       "      <td>0.0</td>\n",
       "      <td>0.0</td>\n",
       "      <td>0.0</td>\n",
       "      <td>0.0</td>\n",
       "      <td>0.0</td>\n",
       "      <td>0.0</td>\n",
       "      <td>0.0</td>\n",
       "    </tr>\n",
       "    <tr>\n",
       "      <th>9684</th>\n",
       "      <td>0.0</td>\n",
       "      <td>0.0</td>\n",
       "      <td>0.0</td>\n",
       "      <td>0.0</td>\n",
       "      <td>0.0</td>\n",
       "      <td>0.0</td>\n",
       "      <td>0.0</td>\n",
       "      <td>0.0</td>\n",
       "      <td>0.0</td>\n",
       "      <td>0.0</td>\n",
       "      <td>...</td>\n",
       "      <td>0.0</td>\n",
       "      <td>0.0</td>\n",
       "      <td>0.0</td>\n",
       "      <td>0.0</td>\n",
       "      <td>0.0</td>\n",
       "      <td>0.0</td>\n",
       "      <td>0.0</td>\n",
       "      <td>0.0</td>\n",
       "      <td>0.0</td>\n",
       "      <td>0.0</td>\n",
       "    </tr>\n",
       "  </tbody>\n",
       "</table>\n",
       "<p>9465 rows × 94 columns</p>\n",
       "</div>"
      ],
      "text/plain": [
       "Item         adjustment  afternoon with the baker  alfajores  argentina night  \\\n",
       "Transaction                                                                     \n",
       "1                   0.0                       0.0        0.0              0.0   \n",
       "2                   0.0                       0.0        0.0              0.0   \n",
       "3                   0.0                       0.0        0.0              0.0   \n",
       "4                   0.0                       0.0        0.0              0.0   \n",
       "5                   0.0                       0.0        0.0              0.0   \n",
       "...                 ...                       ...        ...              ...   \n",
       "9680                0.0                       0.0        0.0              0.0   \n",
       "9681                0.0                       0.0        0.0              0.0   \n",
       "9682                0.0                       0.0        0.0              0.0   \n",
       "9683                0.0                       0.0        0.0              0.0   \n",
       "9684                0.0                       0.0        0.0              0.0   \n",
       "\n",
       "Item         art tray  bacon  baguette  bakewell  bare popcorn  basket  ...  \\\n",
       "Transaction                                                             ...   \n",
       "1                 0.0    0.0       0.0       0.0           0.0     0.0  ...   \n",
       "2                 0.0    0.0       0.0       0.0           0.0     0.0  ...   \n",
       "3                 0.0    0.0       0.0       0.0           0.0     0.0  ...   \n",
       "4                 0.0    0.0       0.0       0.0           0.0     0.0  ...   \n",
       "5                 0.0    0.0       0.0       0.0           0.0     0.0  ...   \n",
       "...               ...    ...       ...       ...           ...     ...  ...   \n",
       "9680              0.0    0.0       0.0       0.0           0.0     0.0  ...   \n",
       "9681              0.0    0.0       0.0       0.0           0.0     0.0  ...   \n",
       "9682              0.0    0.0       0.0       0.0           0.0     0.0  ...   \n",
       "9683              0.0    0.0       0.0       0.0           0.0     0.0  ...   \n",
       "9684              0.0    0.0       0.0       0.0           0.0     0.0  ...   \n",
       "\n",
       "Item         the bart  the nomad  tiffin  toast  truffles  tshirt  \\\n",
       "Transaction                                                         \n",
       "1                 0.0        0.0     0.0    0.0       0.0     0.0   \n",
       "2                 0.0        0.0     0.0    0.0       0.0     0.0   \n",
       "3                 0.0        0.0     0.0    0.0       0.0     0.0   \n",
       "4                 0.0        0.0     0.0    0.0       0.0     0.0   \n",
       "5                 0.0        0.0     0.0    0.0       0.0     0.0   \n",
       "...               ...        ...     ...    ...       ...     ...   \n",
       "9680              0.0        0.0     0.0    0.0       0.0     0.0   \n",
       "9681              0.0        0.0     0.0    0.0       1.0     0.0   \n",
       "9682              0.0        0.0     0.0    0.0       0.0     0.0   \n",
       "9683              0.0        0.0     0.0    0.0       0.0     0.0   \n",
       "9684              0.0        0.0     0.0    0.0       0.0     0.0   \n",
       "\n",
       "Item         valentine's card  vegan feast  vegan mincepie  victorian sponge  \n",
       "Transaction                                                                   \n",
       "1                         0.0          0.0             0.0               0.0  \n",
       "2                         0.0          0.0             0.0               0.0  \n",
       "3                         0.0          0.0             0.0               0.0  \n",
       "4                         0.0          0.0             0.0               0.0  \n",
       "5                         0.0          0.0             0.0               0.0  \n",
       "...                       ...          ...             ...               ...  \n",
       "9680                      0.0          0.0             0.0               0.0  \n",
       "9681                      0.0          0.0             0.0               0.0  \n",
       "9682                      0.0          0.0             0.0               0.0  \n",
       "9683                      0.0          0.0             0.0               0.0  \n",
       "9684                      0.0          0.0             0.0               0.0  \n",
       "\n",
       "[9465 rows x 94 columns]"
      ]
     },
     "execution_count": 46,
     "metadata": {},
     "output_type": "execute_result"
    }
   ],
   "source": [
    "data_final=final_data.pivot_table(index='Transaction',columns='Item',values='count').fillna(0.0)\n",
    "data_final"
   ]
  },
  {
   "cell_type": "code",
   "execution_count": 47,
   "id": "18661048",
   "metadata": {},
   "outputs": [],
   "source": [
    "def change(a):\n",
    "    if a==0.0:\n",
    "        return 0\n",
    "    else:\n",
    "        return 1\n",
    "data_final_new=data_final.applymap(change)"
   ]
  },
  {
   "cell_type": "code",
   "execution_count": 48,
   "id": "2a249a86",
   "metadata": {},
   "outputs": [
    {
     "name": "stderr",
     "output_type": "stream",
     "text": [
      "C:\\Users\\shiva\\AppData\\Roaming\\Python\\Python311\\site-packages\\mlxtend\\frequent_patterns\\fpcommon.py:109: DeprecationWarning: DataFrames with non-bool types result in worse computationalperformance and their support might be discontinued in the future.Please use a DataFrame with bool type\n",
      "  warnings.warn(\n"
     ]
    },
    {
     "data": {
      "text/html": [
       "<div>\n",
       "<style scoped>\n",
       "    .dataframe tbody tr th:only-of-type {\n",
       "        vertical-align: middle;\n",
       "    }\n",
       "\n",
       "    .dataframe tbody tr th {\n",
       "        vertical-align: top;\n",
       "    }\n",
       "\n",
       "    .dataframe thead th {\n",
       "        text-align: right;\n",
       "    }\n",
       "</style>\n",
       "<table border=\"1\" class=\"dataframe\">\n",
       "  <thead>\n",
       "    <tr style=\"text-align: right;\">\n",
       "      <th></th>\n",
       "      <th>support</th>\n",
       "      <th>itemsets</th>\n",
       "    </tr>\n",
       "  </thead>\n",
       "  <tbody>\n",
       "    <tr>\n",
       "      <th>0</th>\n",
       "      <td>0.327205</td>\n",
       "      <td>(bread)</td>\n",
       "    </tr>\n",
       "    <tr>\n",
       "      <th>1</th>\n",
       "      <td>0.103856</td>\n",
       "      <td>(cake)</td>\n",
       "    </tr>\n",
       "    <tr>\n",
       "      <th>2</th>\n",
       "      <td>0.478394</td>\n",
       "      <td>(coffee)</td>\n",
       "    </tr>\n",
       "    <tr>\n",
       "      <th>3</th>\n",
       "      <td>0.054411</td>\n",
       "      <td>(cookies)</td>\n",
       "    </tr>\n",
       "    <tr>\n",
       "      <th>4</th>\n",
       "      <td>0.058320</td>\n",
       "      <td>(hot chocolate)</td>\n",
       "    </tr>\n",
       "    <tr>\n",
       "      <th>5</th>\n",
       "      <td>0.061807</td>\n",
       "      <td>(medialuna)</td>\n",
       "    </tr>\n",
       "    <tr>\n",
       "      <th>6</th>\n",
       "      <td>0.086107</td>\n",
       "      <td>(pastry)</td>\n",
       "    </tr>\n",
       "    <tr>\n",
       "      <th>7</th>\n",
       "      <td>0.071844</td>\n",
       "      <td>(sandwich)</td>\n",
       "    </tr>\n",
       "    <tr>\n",
       "      <th>8</th>\n",
       "      <td>0.142631</td>\n",
       "      <td>(tea)</td>\n",
       "    </tr>\n",
       "    <tr>\n",
       "      <th>9</th>\n",
       "      <td>0.090016</td>\n",
       "      <td>(bread, coffee)</td>\n",
       "    </tr>\n",
       "    <tr>\n",
       "      <th>10</th>\n",
       "      <td>0.054728</td>\n",
       "      <td>(cake, coffee)</td>\n",
       "    </tr>\n",
       "  </tbody>\n",
       "</table>\n",
       "</div>"
      ],
      "text/plain": [
       "     support         itemsets\n",
       "0   0.327205          (bread)\n",
       "1   0.103856           (cake)\n",
       "2   0.478394         (coffee)\n",
       "3   0.054411        (cookies)\n",
       "4   0.058320  (hot chocolate)\n",
       "5   0.061807      (medialuna)\n",
       "6   0.086107         (pastry)\n",
       "7   0.071844       (sandwich)\n",
       "8   0.142631            (tea)\n",
       "9   0.090016  (bread, coffee)\n",
       "10  0.054728   (cake, coffee)"
      ]
     },
     "execution_count": 48,
     "metadata": {},
     "output_type": "execute_result"
    }
   ],
   "source": [
    "frequent_items=apriori(data_final_new,min_support=0.05,use_colnames=True)\n",
    "frequent_items"
   ]
  },
  {
   "cell_type": "code",
   "execution_count": 50,
   "id": "7d71deb1",
   "metadata": {},
   "outputs": [
    {
     "data": {
      "text/html": [
       "<div>\n",
       "<style scoped>\n",
       "    .dataframe tbody tr th:only-of-type {\n",
       "        vertical-align: middle;\n",
       "    }\n",
       "\n",
       "    .dataframe tbody tr th {\n",
       "        vertical-align: top;\n",
       "    }\n",
       "\n",
       "    .dataframe thead th {\n",
       "        text-align: right;\n",
       "    }\n",
       "</style>\n",
       "<table border=\"1\" class=\"dataframe\">\n",
       "  <thead>\n",
       "    <tr style=\"text-align: right;\">\n",
       "      <th></th>\n",
       "      <th>antecedents</th>\n",
       "      <th>consequents</th>\n",
       "      <th>antecedent support</th>\n",
       "      <th>consequent support</th>\n",
       "      <th>support</th>\n",
       "      <th>confidence</th>\n",
       "      <th>lift</th>\n",
       "      <th>leverage</th>\n",
       "      <th>conviction</th>\n",
       "      <th>zhangs_metric</th>\n",
       "    </tr>\n",
       "  </thead>\n",
       "  <tbody>\n",
       "    <tr>\n",
       "      <th>0</th>\n",
       "      <td>(bread)</td>\n",
       "      <td>(coffee)</td>\n",
       "      <td>0.327205</td>\n",
       "      <td>0.478394</td>\n",
       "      <td>0.090016</td>\n",
       "      <td>0.275105</td>\n",
       "      <td>0.575059</td>\n",
       "      <td>-0.066517</td>\n",
       "      <td>0.719561</td>\n",
       "      <td>-0.523431</td>\n",
       "    </tr>\n",
       "    <tr>\n",
       "      <th>1</th>\n",
       "      <td>(coffee)</td>\n",
       "      <td>(bread)</td>\n",
       "      <td>0.478394</td>\n",
       "      <td>0.327205</td>\n",
       "      <td>0.090016</td>\n",
       "      <td>0.188163</td>\n",
       "      <td>0.575059</td>\n",
       "      <td>-0.066517</td>\n",
       "      <td>0.828731</td>\n",
       "      <td>-0.586210</td>\n",
       "    </tr>\n",
       "    <tr>\n",
       "      <th>2</th>\n",
       "      <td>(cake)</td>\n",
       "      <td>(coffee)</td>\n",
       "      <td>0.103856</td>\n",
       "      <td>0.478394</td>\n",
       "      <td>0.054728</td>\n",
       "      <td>0.526958</td>\n",
       "      <td>1.101515</td>\n",
       "      <td>0.005044</td>\n",
       "      <td>1.102664</td>\n",
       "      <td>0.102840</td>\n",
       "    </tr>\n",
       "    <tr>\n",
       "      <th>3</th>\n",
       "      <td>(coffee)</td>\n",
       "      <td>(cake)</td>\n",
       "      <td>0.478394</td>\n",
       "      <td>0.103856</td>\n",
       "      <td>0.054728</td>\n",
       "      <td>0.114399</td>\n",
       "      <td>1.101515</td>\n",
       "      <td>0.005044</td>\n",
       "      <td>1.011905</td>\n",
       "      <td>0.176684</td>\n",
       "    </tr>\n",
       "  </tbody>\n",
       "</table>\n",
       "</div>"
      ],
      "text/plain": [
       "  antecedents consequents  antecedent support  consequent support   support  \\\n",
       "0     (bread)    (coffee)            0.327205            0.478394  0.090016   \n",
       "1    (coffee)     (bread)            0.478394            0.327205  0.090016   \n",
       "2      (cake)    (coffee)            0.103856            0.478394  0.054728   \n",
       "3    (coffee)      (cake)            0.478394            0.103856  0.054728   \n",
       "\n",
       "   confidence      lift  leverage  conviction  zhangs_metric  \n",
       "0    0.275105  0.575059 -0.066517    0.719561      -0.523431  \n",
       "1    0.188163  0.575059 -0.066517    0.828731      -0.586210  \n",
       "2    0.526958  1.101515  0.005044    1.102664       0.102840  \n",
       "3    0.114399  1.101515  0.005044    1.011905       0.176684  "
      ]
     },
     "execution_count": 50,
     "metadata": {},
     "output_type": "execute_result"
    }
   ],
   "source": [
    "#association rules need to be formed\n",
    "association_rules(frequent_items,metric='confidence',min_threshold=0.01,support_only=False)"
   ]
  },
  {
   "cell_type": "code",
   "execution_count": null,
   "id": "b27c33a4",
   "metadata": {},
   "outputs": [],
   "source": []
  },
  {
   "cell_type": "code",
   "execution_count": null,
   "id": "010a6839",
   "metadata": {},
   "outputs": [],
   "source": []
  },
  {
   "cell_type": "code",
   "execution_count": null,
   "id": "c793dcdd",
   "metadata": {},
   "outputs": [],
   "source": []
  }
 ],
 "metadata": {
  "kernelspec": {
   "display_name": "Python 3 (ipykernel)",
   "language": "python",
   "name": "python3"
  },
  "language_info": {
   "codemirror_mode": {
    "name": "ipython",
    "version": 3
   },
   "file_extension": ".py",
   "mimetype": "text/x-python",
   "name": "python",
   "nbconvert_exporter": "python",
   "pygments_lexer": "ipython3",
   "version": "3.11.4"
  }
 },
 "nbformat": 4,
 "nbformat_minor": 5
}
